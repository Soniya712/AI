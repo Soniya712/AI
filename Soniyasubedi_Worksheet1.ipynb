{
  "nbformat": 4,
  "nbformat_minor": 0,
  "metadata": {
    "colab": {
      "provenance": []
    },
    "kernelspec": {
      "name": "python3",
      "display_name": "Python 3"
    },
    "language_info": {
      "name": "python"
    }
  },
  "cells": [
    {
      "cell_type": "code",
      "execution_count": null,
      "metadata": {
        "colab": {
          "base_uri": "https://localhost:8080/"
        },
        "id": "fDbmPM5vNfA9",
        "outputId": "75403de7-3407-4cce-f64b-022f862509c1"
      },
      "outputs": [
        {
          "output_type": "stream",
          "name": "stdout",
          "text": [
            "(5, 7, 9)\n"
          ]
        }
      ],
      "source": [
        "a1=[1,2,3]\n",
        "a2=[4,5,6]\n",
        "sum_r\n",
        "for i in r"
      ]
    },
    {
      "cell_type": "code",
      "source": [
        "import numpy as np\n",
        "a1=np.array([1,2,3])\n",
        "a2=np.array([1])\n",
        "print(np.add(a1,a2))"
      ],
      "metadata": {
        "colab": {
          "base_uri": "https://localhost:8080/"
        },
        "id": "gQl6q2_hUC2e",
        "outputId": "41289273-14d4-4240-9ca9-471aadeb5a1c"
      },
      "execution_count": null,
      "outputs": [
        {
          "output_type": "stream",
          "name": "stdout",
          "text": [
            "[2 3 4]\n"
          ]
        }
      ]
    },
    {
      "cell_type": "code",
      "source": [
        "#Problem1\n",
        "#Task1\n",
        "import numpy as np\n",
        "array=np.zeros((2,2))\n",
        "print(array)"
      ],
      "metadata": {
        "colab": {
          "base_uri": "https://localhost:8080/"
        },
        "id": "6Jv0P3d9Xi1o",
        "outputId": "743771d4-dbc1-4e7f-f078-b3ecbf79a6ce"
      },
      "execution_count": null,
      "outputs": [
        {
          "output_type": "stream",
          "name": "stdout",
          "text": [
            "[[0. 0.]\n",
            " [0. 0.]]\n"
          ]
        }
      ]
    },
    {
      "cell_type": "code",
      "source": [
        "#Task2\n",
        "import numpy as np\n",
        "array=np.ones((4,2))\n",
        "print(array)"
      ],
      "metadata": {
        "colab": {
          "base_uri": "https://localhost:8080/"
        },
        "id": "UGsTzUCSYjgF",
        "outputId": "098df0ac-ac4c-4776-d759-1b301a343345"
      },
      "execution_count": null,
      "outputs": [
        {
          "output_type": "stream",
          "name": "stdout",
          "text": [
            "[[1. 1.]\n",
            " [1. 1.]\n",
            " [1. 1.]\n",
            " [1. 1.]]\n"
          ]
        }
      ]
    },
    {
      "cell_type": "code",
      "source": [
        "#Task3\n",
        "import numpy as np\n",
        "array=np.full((3,5),6)\n",
        "print(array)\n"
      ],
      "metadata": {
        "colab": {
          "base_uri": "https://localhost:8080/"
        },
        "id": "Nyvf7e4WY8RA",
        "outputId": "d45e3657-c997-420c-ecd9-5c6b1f629cd7"
      },
      "execution_count": null,
      "outputs": [
        {
          "output_type": "stream",
          "name": "stdout",
          "text": [
            "[[6 6 6 6 6]\n",
            " [6 6 6 6 6]\n",
            " [6 6 6 6 6]]\n"
          ]
        }
      ]
    },
    {
      "cell_type": "code",
      "source": [
        "#Qn4\n",
        "import numpy as np\n",
        "#Example array\n",
        "array = np.array([[2, 2], [3, 3]])\n",
        "\n",
        "#New array of zeros with same shape and size as example array\n",
        "zeroArray = np.zeros_like(array)\n",
        "print(zeroArray)"
      ],
      "metadata": {
        "colab": {
          "base_uri": "https://localhost:8080/"
        },
        "id": "7pANUCdccTSX",
        "outputId": "9b91ed49-355d-4b5e-ecd0-578c30e03728"
      },
      "execution_count": 1,
      "outputs": [
        {
          "output_type": "stream",
          "name": "stdout",
          "text": [
            "[[0 0]\n",
            " [0 0]]\n"
          ]
        }
      ]
    },
    {
      "cell_type": "code",
      "source": [
        "#Qn5\n",
        "import numpy as np\n",
        "#Example array\n",
        "arr1 = np.array([[1, 2, 3], [4, 5, 6], [7, 8, 9]])\n",
        "\n",
        "#New array of ones with same shape and size as example array\n",
        "onesArray = np.ones_like(arr1)\n",
        "print(onesArray)\n"
      ],
      "metadata": {
        "colab": {
          "base_uri": "https://localhost:8080/"
        },
        "id": "5Dtk78jjiIHz",
        "outputId": "3c69c2b3-ac83-4c04-8190-5ecad5b18e71"
      },
      "execution_count": 2,
      "outputs": [
        {
          "output_type": "stream",
          "name": "stdout",
          "text": [
            "[[1 1 1]\n",
            " [1 1 1]\n",
            " [1 1 1]]\n"
          ]
        }
      ]
    },
    {
      "cell_type": "code",
      "source": [
        "#Qn6\n",
        "import numpy as np\n",
        "\n",
        "new_list = [1, 2, 3, 4]\n",
        "arr = np.array(new_list)\n",
        "print(arr)"
      ],
      "metadata": {
        "id": "2AkH6jdzjwIf",
        "colab": {
          "base_uri": "https://localhost:8080/"
        },
        "outputId": "299cce71-b7b6-4861-c3d8-a8393d2becee"
      },
      "execution_count": 3,
      "outputs": [
        {
          "output_type": "stream",
          "name": "stdout",
          "text": [
            "[1 2 3 4]\n"
          ]
        }
      ]
    },
    {
      "cell_type": "code",
      "source": [
        "#Problem2\n",
        "#Qn1\n",
        "import numpy as np\n",
        "\n",
        "#use of arange allows to print from 10 to 49 and doesnot include 50\n",
        "array = np.arange(10, 50)\n",
        "print(array)"
      ],
      "metadata": {
        "colab": {
          "base_uri": "https://localhost:8080/"
        },
        "id": "4l_X1d_94kIB",
        "outputId": "a709f378-b12f-4dc7-bf35-6dd9fda70768"
      },
      "execution_count": 4,
      "outputs": [
        {
          "output_type": "stream",
          "name": "stdout",
          "text": [
            "[10 11 12 13 14 15 16 17 18 19 20 21 22 23 24 25 26 27 28 29 30 31 32 33\n",
            " 34 35 36 37 38 39 40 41 42 43 44 45 46 47 48 49]\n"
          ]
        }
      ]
    },
    {
      "cell_type": "code",
      "source": [
        "#Qno2\n",
        "import numpy as np\n",
        "mat = np.arange(9).reshape(3, 3)\n",
        "print(mat)"
      ],
      "metadata": {
        "colab": {
          "base_uri": "https://localhost:8080/"
        },
        "id": "qmHId7-O7xpB",
        "outputId": "6f0819dc-f451-400b-8967-2a47e619de8f"
      },
      "execution_count": 5,
      "outputs": [
        {
          "output_type": "stream",
          "name": "stdout",
          "text": [
            "[[0 1 2]\n",
            " [3 4 5]\n",
            " [6 7 8]]\n"
          ]
        }
      ]
    },
    {
      "cell_type": "code",
      "source": [
        "#Qno3\n",
        "import numpy as np\n",
        "identity_mat = np.eye(3)\n",
        "print(identity_mat)"
      ],
      "metadata": {
        "colab": {
          "base_uri": "https://localhost:8080/"
        },
        "id": "O5-piNMD77sw",
        "outputId": "02df178e-25d6-4939-ba4a-e91e7337d52d"
      },
      "execution_count": 7,
      "outputs": [
        {
          "output_type": "stream",
          "name": "stdout",
          "text": [
            "[[1. 0. 0.]\n",
            " [0. 1. 0.]\n",
            " [0. 0. 1.]]\n"
          ]
        }
      ]
    },
    {
      "cell_type": "code",
      "source": [
        "#Qno4\n",
        "import numpy as np\n",
        "arr = np.random.random(30)\n",
        "mean = arr.mean()\n",
        "print(arr, mean)"
      ],
      "metadata": {
        "colab": {
          "base_uri": "https://localhost:8080/"
        },
        "id": "AJEvqryK8Bd0",
        "outputId": "16934628-9c81-4351-b6f0-7701c17b6230"
      },
      "execution_count": 6,
      "outputs": [
        {
          "output_type": "stream",
          "name": "stdout",
          "text": [
            "[0.99380084 0.8728134  0.26371868 0.75670471 0.79914149 0.64997157\n",
            " 0.06344203 0.26850513 0.56224166 0.33798877 0.42917192 0.44340184\n",
            " 0.30671832 0.81790419 0.56175659 0.91707546 0.63296952 0.05407543\n",
            " 0.31998387 0.74036202 0.78120775 0.46547312 0.95992331 0.71346976\n",
            " 0.90877914 0.63095813 0.34917692 0.7843133  0.16353752 0.9380118 ] 0.5828866066305513\n"
          ]
        }
      ]
    },
    {
      "cell_type": "code",
      "source": [
        "#Qno5\n",
        "import numpy as np\n",
        "arr = np.random.random((10, 10))\n",
        "arr_min = arr.min()\n",
        "arr_max = arr.max()\n",
        "print(\"Minimum Value:\", arr_min, \"\\nMaximum Value:\", arr_max)"
      ],
      "metadata": {
        "colab": {
          "base_uri": "https://localhost:8080/"
        },
        "id": "QCEcxxXP8FzY",
        "outputId": "235a9bca-9ed6-4b3c-b4eb-b2bd953708a4"
      },
      "execution_count": 8,
      "outputs": [
        {
          "output_type": "stream",
          "name": "stdout",
          "text": [
            "Minimum Value: 0.009592174189860914 \n",
            "Maximum Value: 0.9805012834299668\n"
          ]
        }
      ]
    },
    {
      "cell_type": "code",
      "source": [
        "#Qno6\n",
        "import numpy as np\n",
        "arr = np.zeros(10)\n",
        "arr[4] = 1\n",
        "print(arr)"
      ],
      "metadata": {
        "colab": {
          "base_uri": "https://localhost:8080/"
        },
        "id": "CqXHUIaR8UNa",
        "outputId": "cf342c91-6397-47d7-ed74-9ca4aee98b36"
      },
      "execution_count": 9,
      "outputs": [
        {
          "output_type": "stream",
          "name": "stdout",
          "text": [
            "[0. 0. 0. 0. 1. 0. 0. 0. 0. 0.]\n"
          ]
        }
      ]
    },
    {
      "cell_type": "code",
      "source": [
        "#Qno7\n",
        "import numpy as np\n",
        "arr = [1, 2, 0, 0, 4, 0]\n",
        "reversed_arr = np.array(arr)[::-1]\n",
        "print(reversed_arr)"
      ],
      "metadata": {
        "colab": {
          "base_uri": "https://localhost:8080/"
        },
        "id": "v72In8jx8Y3-",
        "outputId": "c9f1774f-d307-4d5b-8921-2c56f8c90890"
      },
      "execution_count": 10,
      "outputs": [
        {
          "output_type": "stream",
          "name": "stdout",
          "text": [
            "[0 4 0 0 2 1]\n"
          ]
        }
      ]
    },
    {
      "cell_type": "code",
      "source": [
        "#Qno8\n",
        "import numpy as np\n",
        "arr = np.ones((5, 5))\n",
        "arr[1:-1, 1:-1] = 0\n",
        "print(arr)"
      ],
      "metadata": {
        "colab": {
          "base_uri": "https://localhost:8080/"
        },
        "id": "B7Tsl2qF8dJV",
        "outputId": "dce932c0-8727-494f-9a7f-f21c3805fead"
      },
      "execution_count": 11,
      "outputs": [
        {
          "output_type": "stream",
          "name": "stdout",
          "text": [
            "[[1. 1. 1. 1. 1.]\n",
            " [1. 0. 0. 0. 1.]\n",
            " [1. 0. 0. 0. 1.]\n",
            " [1. 0. 0. 0. 1.]\n",
            " [1. 1. 1. 1. 1.]]\n"
          ]
        }
      ]
    },
    {
      "cell_type": "code",
      "source": [
        "#Qno9\n",
        "import numpy as np\n",
        "checkerboard = np.zeros((8, 8))\n",
        "checkerboard[1::2, ::2] = 1\n",
        "checkerboard[::2, 1::2] = 1\n",
        "print(checkerboard)"
      ],
      "metadata": {
        "colab": {
          "base_uri": "https://localhost:8080/"
        },
        "id": "Muuz7XnV8hF6",
        "outputId": "0bd5a568-f7ae-4519-e37d-15d17ef01de5"
      },
      "execution_count": 12,
      "outputs": [
        {
          "output_type": "stream",
          "name": "stdout",
          "text": [
            "[[0. 1. 0. 1. 0. 1. 0. 1.]\n",
            " [1. 0. 1. 0. 1. 0. 1. 0.]\n",
            " [0. 1. 0. 1. 0. 1. 0. 1.]\n",
            " [1. 0. 1. 0. 1. 0. 1. 0.]\n",
            " [0. 1. 0. 1. 0. 1. 0. 1.]\n",
            " [1. 0. 1. 0. 1. 0. 1. 0.]\n",
            " [0. 1. 0. 1. 0. 1. 0. 1.]\n",
            " [1. 0. 1. 0. 1. 0. 1. 0.]]\n"
          ]
        }
      ]
    },
    {
      "cell_type": "code",
      "source": [
        "#Problem-3:Array Operations\n",
        "#Qno1\n",
        "import numpy as np\n",
        "x = np.array([[1,2],[3,5]])\n",
        "y = np.array([[5,6],[7,8]])\n",
        "v = np.array([9,10])\n",
        "w = np.array([11,12])\n",
        "add_arr = x + y\n",
        "add_arr1 = v + w\n",
        "print(\"Addition of X and Y:\", add_arr, \"\\nAddition of V and W:\", add_arr1)"
      ],
      "metadata": {
        "colab": {
          "base_uri": "https://localhost:8080/"
        },
        "id": "BBD6dI3O8lG7",
        "outputId": "c6ea8189-7284-4f43-c1af-60d653ff6fc0"
      },
      "execution_count": 13,
      "outputs": [
        {
          "output_type": "stream",
          "name": "stdout",
          "text": [
            "Addition of X and Y: [[ 6  8]\n",
            " [10 13]] \n",
            "Addition of V and W: [20 22]\n"
          ]
        }
      ]
    },
    {
      "cell_type": "code",
      "source": [
        "#Qno2\n",
        "import numpy as np\n",
        "x = np.array([[1,2],[3,5]])\n",
        "y = np.array([[5,6],[7,8]])\n",
        "v = np.array([9,10])\n",
        "w = np.array([11,12])\n",
        "sub_arr = x - y\n",
        "sub_arr1 = v - w\n",
        "print(\"Subtraction of X and Y:\", sub_arr, \"\\nSubtraction of V and W:\", sub_arr)"
      ],
      "metadata": {
        "colab": {
          "base_uri": "https://localhost:8080/"
        },
        "id": "ZQHdABLi8p84",
        "outputId": "242f8a6c-280a-483e-bc0a-f2b2cbc1746e"
      },
      "execution_count": 15,
      "outputs": [
        {
          "output_type": "stream",
          "name": "stdout",
          "text": [
            "Subtraction of X and Y: [[-4 -4]\n",
            " [-4 -3]] \n",
            "Subtraction of V and W: [[-4 -4]\n",
            " [-4 -3]]\n"
          ]
        }
      ]
    },
    {
      "cell_type": "code",
      "source": [
        "#Qno3\n",
        "import numpy as np\n",
        "x = np.array([[1,2],[3,5]])\n",
        "y = np.array([[5,6],[7,8]])\n",
        "v = np.array([9,10])\n",
        "w = np.array([11,12])\n",
        "mult_arr = x * 9\n",
        "print(mult_arr)"
      ],
      "metadata": {
        "colab": {
          "base_uri": "https://localhost:8080/"
        },
        "id": "gj5Sec_d80Uo",
        "outputId": "f0e65250-a435-4518-97fa-cedd9bf61172"
      },
      "execution_count": 16,
      "outputs": [
        {
          "output_type": "stream",
          "name": "stdout",
          "text": [
            "[[ 9 18]\n",
            " [27 45]]\n"
          ]
        }
      ]
    },
    {
      "cell_type": "code",
      "source": [
        "#Qno4\n",
        "import numpy as np\n",
        "x = np.array([[1,2],[3,5]])\n",
        "y = np.array([[5,6],[7,8]])\n",
        "v = np.array([9,10])\n",
        "w = np.array([11,12])\n",
        "square_arrX = x**2\n",
        "square_arrY = y**2\n",
        "square_arrV = v**2\n",
        "square_arrW = w**2\n",
        "print(square_arrX, \"\\n\",square_arrY, \"\\n\",square_arrV,\"\\n\" ,square_arrW)"
      ],
      "metadata": {
        "colab": {
          "base_uri": "https://localhost:8080/"
        },
        "id": "6nIBr9lj84FG",
        "outputId": "0ff76371-5cd1-49db-ba71-ef0aeba60a74"
      },
      "execution_count": 17,
      "outputs": [
        {
          "output_type": "stream",
          "name": "stdout",
          "text": [
            "[[ 1  4]\n",
            " [ 9 25]] \n",
            " [[25 36]\n",
            " [49 64]] \n",
            " [ 81 100] \n",
            " [121 144]\n"
          ]
        }
      ]
    },
    {
      "cell_type": "code",
      "source": [
        "#Qno5\n",
        "import numpy as np\n",
        "x = np.array([[1,2],[3,5]])\n",
        "y = np.array([[5,6],[7,8]])\n",
        "v = np.array([9,10])\n",
        "w = np.array([11,12])\n",
        "dot_product_vw = np.dot(v, w)\n",
        "dot_product_xv = np.dot(x, v)\n",
        "dot_product_xy = np.dot(x, y)\n",
        "print(\"Dot Product of V and W:\",dot_product_vw, \"\\nDot Product of X and V: \",dot_product_xv,\"\\nDot Product of X and Y:\",dot_product_xy)"
      ],
      "metadata": {
        "colab": {
          "base_uri": "https://localhost:8080/"
        },
        "id": "3oOS5gtf87y4",
        "outputId": "1e263868-d851-40e8-b1cb-7b0546ee4810"
      },
      "execution_count": 18,
      "outputs": [
        {
          "output_type": "stream",
          "name": "stdout",
          "text": [
            "Dot Product of V and W: 219 \n",
            "Dot Product of X and V:  [29 77] \n",
            "Dot Product of X and Y: [[19 22]\n",
            " [50 58]]\n"
          ]
        }
      ]
    },
    {
      "cell_type": "code",
      "source": [
        "#Qno6\n",
        "import numpy as np\n",
        "x = np.array([[1,2],[3,5]])\n",
        "y = np.array([[5,6],[7,8]])\n",
        "v = np.array([9,10])\n",
        "w = np.array([11,12])\n",
        "concat_xy_rows = np.concatenate((x, y), axis=0)\n",
        "concat_vw_columns = np.vstack((v, w)).T\n",
        "print(concat_xy_rows)\n",
        "print(concat_vw_columns)"
      ],
      "metadata": {
        "colab": {
          "base_uri": "https://localhost:8080/"
        },
        "id": "SAVyonQa9AXO",
        "outputId": "23d12d9c-e6ba-4ee4-8793-bc6919162cbd"
      },
      "execution_count": 19,
      "outputs": [
        {
          "output_type": "stream",
          "name": "stdout",
          "text": [
            "[[1 2]\n",
            " [3 5]\n",
            " [5 6]\n",
            " [7 8]]\n",
            "[[ 9 11]\n",
            " [10 12]]\n"
          ]
        }
      ]
    },
    {
      "cell_type": "code",
      "source": [
        "#Qno7\n",
        "import numpy as np\n",
        "x = np.array([[1,2],[3,5]])\n",
        "y = np.array([[5,6],[7,8]])\n",
        "v = np.array([9,10])\n",
        "w = np.array([11,12])\n",
        "try:\n",
        "    concat_xv = np.concatenate((x, v), axis=0)\n",
        "except ValueError as e:\n",
        "    concat_xv_error = str(e)\n",
        "print(concat_xv_error)"
      ],
      "metadata": {
        "colab": {
          "base_uri": "https://localhost:8080/"
        },
        "id": "B9QTuk8w9Ev7",
        "outputId": "f628848e-ff41-491b-9041-67d9ffd4822e"
      },
      "execution_count": 20,
      "outputs": [
        {
          "output_type": "stream",
          "name": "stdout",
          "text": [
            "all the input arrays must have same number of dimensions, but the array at index 0 has 2 dimension(s) and the array at index 1 has 1 dimension(s)\n"
          ]
        }
      ]
    },
    {
      "cell_type": "code",
      "source": [
        "#Problem-4: Matrix Operations\n",
        "#Qno1\n",
        "A = np.array([[3, 4], [7, 8]])\n",
        "B = np.array([[5, 3], [2, 1]])\n",
        "A_inv = np.linalg.inv(A)\n",
        "identity = np.dot(A, A_inv)\n",
        "print(identity)"
      ],
      "metadata": {
        "colab": {
          "base_uri": "https://localhost:8080/"
        },
        "id": "xU10So3B9Jhq",
        "outputId": "804a3e19-90d7-4045-d45f-317780cb5291"
      },
      "execution_count": 21,
      "outputs": [
        {
          "output_type": "stream",
          "name": "stdout",
          "text": [
            "[[1.00000000e+00 0.00000000e+00]\n",
            " [1.77635684e-15 1.00000000e+00]]\n"
          ]
        }
      ]
    },
    {
      "cell_type": "code",
      "source": [
        "#Qno2\n",
        "A = np.array([[3, 4], [7, 8]])\n",
        "B = np.array([[5, 3], [2, 1]])\n",
        "AB = np.dot(A, B)\n",
        "BA = np.dot(B, A)\n",
        "AB_not_equal_BA = not np.array_equal(AB, BA)"
      ],
      "metadata": {
        "id": "67_YfTDF9Nvg"
      },
      "execution_count": 22,
      "outputs": []
    }
  ]
}