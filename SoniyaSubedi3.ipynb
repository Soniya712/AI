{
  "nbformat": 4,
  "nbformat_minor": 0,
  "metadata": {
    "colab": {
      "provenance": []
    },
    "kernelspec": {
      "name": "python3",
      "display_name": "Python 3"
    },
    "language_info": {
      "name": "python"
    }
  },
  "cells": [
    {
      "cell_type": "code",
      "execution_count": 2,
      "metadata": {
        "id": "pBJeLa7llbOh"
      },
      "outputs": [],
      "source": [
        "import pandas as pd\n"
      ]
    },
    {
      "cell_type": "code",
      "source": [
        "titanic_df = pd.read_csv('/content/drive/MyDrive/Titanic-Dataset.csv')"
      ],
      "metadata": {
        "collapsed": true,
        "id": "XAXsqzS0lflZ"
      },
      "execution_count": 3,
      "outputs": []
    },
    {
      "cell_type": "code",
      "source": [
        "#3.1\n",
        "#Q1\n",
        "\n",
        "#load data to dataframe\n",
        "titanic_df.head()\n",
        "titanic_df.tail()\n",
        "titanic_df.info()"
      ],
      "metadata": {
        "id": "vnZJbuXylxwW",
        "colab": {
          "base_uri": "https://localhost:8080/"
        },
        "outputId": "637a4c65-dc25-4ff8-d724-a0f4d847baa4"
      },
      "execution_count": 4,
      "outputs": [
        {
          "output_type": "stream",
          "name": "stdout",
          "text": [
            "<class 'pandas.core.frame.DataFrame'>\n",
            "RangeIndex: 891 entries, 0 to 890\n",
            "Data columns (total 12 columns):\n",
            " #   Column       Non-Null Count  Dtype  \n",
            "---  ------       --------------  -----  \n",
            " 0   PassengerId  891 non-null    int64  \n",
            " 1   Survived     891 non-null    int64  \n",
            " 2   Pclass       891 non-null    int64  \n",
            " 3   Name         891 non-null    object \n",
            " 4   Sex          891 non-null    object \n",
            " 5   Age          714 non-null    float64\n",
            " 6   SibSp        891 non-null    int64  \n",
            " 7   Parch        891 non-null    int64  \n",
            " 8   Ticket       891 non-null    object \n",
            " 9   Fare         891 non-null    float64\n",
            " 10  Cabin        204 non-null    object \n",
            " 11  Embarked     889 non-null    object \n",
            "dtypes: float64(2), int64(5), object(5)\n",
            "memory usage: 83.7+ KB\n"
          ]
        }
      ]
    },
    {
      "cell_type": "code",
      "source": [
        "#Problem1(Sorting)\n",
        "\n",
        "#Qn1\n",
        "#Create dataframe fare\n",
        "fare = titanic_df[['Fare']]\n",
        "\n",
        "#print its head\n",
        "print(fare.head())"
      ],
      "metadata": {
        "id": "KF08Fh5il3Vq",
        "colab": {
          "base_uri": "https://localhost:8080/"
        },
        "outputId": "e9c0d9df-5904-472f-959b-f423e16f0992"
      },
      "execution_count": 5,
      "outputs": [
        {
          "output_type": "stream",
          "name": "stdout",
          "text": [
            "      Fare\n",
            "0   7.2500\n",
            "1  71.2833\n",
            "2   7.9250\n",
            "3  53.1000\n",
            "4   8.0500\n"
          ]
        }
      ]
    },
    {
      "cell_type": "code",
      "source": [
        "#Qn2\n",
        "class_age = titanic_df[['Pclass', 'Age']]\n",
        "print(class_age.head())"
      ],
      "metadata": {
        "id": "RAhgN4kZllFY",
        "colab": {
          "base_uri": "https://localhost:8080/"
        },
        "outputId": "ac752dee-74a7-4705-9b43-d47b9e6b6a5b"
      },
      "execution_count": 6,
      "outputs": [
        {
          "output_type": "stream",
          "name": "stdout",
          "text": [
            "   Pclass   Age\n",
            "0       3  22.0\n",
            "1       1  38.0\n",
            "2       3  26.0\n",
            "3       1  35.0\n",
            "4       3  35.0\n"
          ]
        }
      ]
    },
    {
      "cell_type": "code",
      "source": [
        "#Qn3\n",
        "survived_gender = titanic_df[['Survived', 'Sex']]\n",
        "print(survived_gender.head())"
      ],
      "metadata": {
        "id": "6Mh3rRxMl9kN",
        "colab": {
          "base_uri": "https://localhost:8080/"
        },
        "outputId": "6aef5ef4-4ef3-4f9a-ae1e-e5738df539aa"
      },
      "execution_count": 7,
      "outputs": [
        {
          "output_type": "stream",
          "name": "stdout",
          "text": [
            "   Survived     Sex\n",
            "0         0    male\n",
            "1         1  female\n",
            "2         1  female\n",
            "3         1  female\n",
            "4         0    male\n"
          ]
        }
      ]
    },
    {
      "cell_type": "code",
      "source": [
        "#Problem2(Subsetting)\n",
        "#Qn1\n",
        "fare_gt_100 = titanic_df[titanic_df['Fare']>100]\n",
        "print(fare_gt_100)"
      ],
      "metadata": {
        "id": "loybr09gl_h5"
      },
      "execution_count": null,
      "outputs": []
    },
    {
      "cell_type": "code",
      "source": [
        "#Qn2\n",
        "first_class = titanic_df[titanic_df['Pclass']==1]\n",
        "print(first_class)"
      ],
      "metadata": {
        "id": "f0CilkdtmBmL"
      },
      "execution_count": null,
      "outputs": []
    },
    {
      "cell_type": "code",
      "source": [
        "#Qn3\n",
        "female_under_18 = titanic_df[(titanic_df['Age']<18) & (titanic_df['Sex']=='female')]\n",
        "print(female_under_18)"
      ],
      "metadata": {
        "id": "sck8oxDcmEJA"
      },
      "execution_count": null,
      "outputs": []
    },
    {
      "cell_type": "code",
      "source": [
        "#(Subsetting by categorical variables)\n",
        "#Qn1\n",
        "embarked_c_or_s = titanic_df[(titanic_df['Embarked']=='C') | (titanic_df['Embarked']=='S')]\n",
        "print(embarked_c_or_s)"
      ],
      "metadata": {
        "id": "o_UbB4ZemJuO"
      },
      "execution_count": null,
      "outputs": []
    },
    {
      "cell_type": "code",
      "source": [
        "#Qn2\n",
        "first_second_class = titanic_df[titanic_df['Pclass'].isin([1,2])]\n",
        "print(first_second_class)"
      ],
      "metadata": {
        "id": "4UL89g_pmMBp"
      },
      "execution_count": null,
      "outputs": []
    },
    {
      "cell_type": "code",
      "source": [
        "#3.2\n",
        "#Task1\n",
        "#Qn1\n",
        "titanic_df['Age'].fillna(titanic_df['Age'].mean(), inplace=True)\n",
        "titanic_df['Fare_Per_Year'] = titanic_df['Fare']/titanic_df['Age']\n",
        "titanic_df"
      ],
      "metadata": {
        "id": "VVlKV9YGmOZM"
      },
      "execution_count": null,
      "outputs": []
    },
    {
      "cell_type": "code",
      "source": [
        "\n",
        "#Qn2\n",
        "high_fare_age = titanic_df[titanic_df['Fare_Per_Year']>5]\n",
        "high_fare_age"
      ],
      "metadata": {
        "id": "HSvYZpXnmQvt"
      },
      "execution_count": null,
      "outputs": []
    },
    {
      "cell_type": "code",
      "source": [
        "#Qn3\n",
        "high_fare_age_srt = titanic_df.sort_values(by='Fare_Per_Year', ascending=False)\n",
        "high_fare_age_srt.head()"
      ],
      "metadata": {
        "id": "MFRtuI9dmVdB"
      },
      "execution_count": null,
      "outputs": []
    },
    {
      "cell_type": "code",
      "source": [
        "#Qn4&5\n",
        "result = high_fare_age_srt[['Name', 'Fare_Per_Year']]\n",
        "print(result.head())"
      ],
      "metadata": {
        "id": "b6r4PtSxmXrd"
      },
      "execution_count": null,
      "outputs": []
    },
    {
      "cell_type": "code",
      "source": [
        "#Task2\n",
        "#Qn1\n",
        "titanic_df['Pclass'].fillna(titanic_df['Pclass'].mode()[0], inplace=True)\n",
        "titanic_df['Fare_Per_Class'] = titanic_df['Fare']/titanic_df['Pclass']\n",
        "titanic_df"
      ],
      "metadata": {
        "id": "p7RErirWmazf"
      },
      "execution_count": null,
      "outputs": []
    },
    {
      "cell_type": "code",
      "source": [
        "#Qn2\n",
        "adult_males = titanic_df[(titanic_df['Sex']=='male') & (titanic_df['Age']>=18)]\n",
        "print(adult_males.head())"
      ],
      "metadata": {
        "id": "akoAnMXYmc3h"
      },
      "execution_count": null,
      "outputs": []
    },
    {
      "cell_type": "code",
      "source": [
        "#Qn3\n",
        "adult_males_srt = titanic_df.sort_values(by='Fare_Per_Class', ascending=False)\n",
        "print(adult_males_srt"
      ],
      "metadata": {
        "id": "s7Dh60PBmfBQ"
      },
      "execution_count": null,
      "outputs": []
    },
    {
      "cell_type": "code",
      "source": [
        "#Qn4&5\n",
        "result = adult_males_srt[['Name', 'Age', 'Fare_Per_Class']]\n",
        "print(result)"
      ],
      "metadata": {
        "id": "MFdyy10gmhGm"
      },
      "execution_count": null,
      "outputs": []
    },
    {
      "cell_type": "code",
      "source": [
        "#3.3\n",
        "#Task1\n",
        "#Qn1\n",
        "total_fare = titanic_df['Fare'].sum()\n",
        "print(\"The total fare paid across all passanger: \",total_fare)"
      ],
      "metadata": {
        "id": "BXhTpWcmmjny"
      },
      "execution_count": null,
      "outputs": []
    },
    {
      "cell_type": "code",
      "source": [
        "#Qn2\n",
        "pclass1 = titanic_df[titanic_df['Pclass']==1]\n",
        "total_fare_pclass1 = pclass1['Fare'].sum()\n",
        "print(f\"Total fare paid by first class passengers: {total_fare_pclass1}\")"
      ],
      "metadata": {
        "id": "31gNhyPymmGT"
      },
      "execution_count": null,
      "outputs": []
    },
    {
      "cell_type": "code",
      "source": [
        "#Qn3\n",
        "#for plclass=2\n",
        "pclass2 = titanic_df[titanic_df['Pclass']==2]\n",
        "total_fare_pclass2 = pclass2['Fare'].sum()\n",
        "print(f\"Total fare paid by second class passengers: {total_fare_pclass2}\")\n",
        "\n",
        "#for pclass=3\n",
        "pclass3 = titanic_df[titanic_df['Pclass']==3]\n",
        "total_fare_pclass3 = pclass3['Fare'].sum()\n",
        "print(f\"Total fare paid by second class passengers: {total_fare_pclass3}\")\n"
      ],
      "metadata": {
        "id": "jLWSCxctmoWR"
      },
      "execution_count": null,
      "outputs": []
    },
    {
      "cell_type": "code",
      "source": [
        "#Qn4\n",
        "fare_totals = [total_fare_pclass1, total_fare_pclass2, total_fare_pclass3]\n",
        "print(f\"Total fare of each classes: {fare_totals}\")"
      ],
      "metadata": {
        "id": "91aQ1NLWmq8S"
      },
      "execution_count": null,
      "outputs": []
    },
    {
      "cell_type": "code",
      "source": [
        "#QN5\n",
        "overall_total = titanic_df['Fare'].sum()\n",
        "\n",
        "pclass1_proportion = total_fare_pclass1/overall_total\n",
        "pclass2_proportion = total_fare_pclass2/overall_total\n",
        "pclass3_proportion = total_fare_pclass3/overall_total\n",
        "\n",
        "fare_proportion = [pclass1_proportion, pclass2_proportion, pclass3_proportion]\n",
        "print(f\"Proportion of fare revenue of each classes: {fare_proportion}\")"
      ],
      "metadata": {
        "id": "_skidf4smuOd"
      },
      "execution_count": null,
      "outputs": []
    },
    {
      "cell_type": "code",
      "source": [
        "#Task2\n",
        "#Qn1\n",
        "def categorize_age(age):\n",
        "    if age < 18:\n",
        "        return 'child'\n",
        "    elif age < 65:\n",
        "        return 'adult'\n",
        "    else:\n",
        "        return 'senior'\n",
        "\n",
        "titanic_df['age_group'] = titanic_df['Age'].apply(categorize_age)\n",
        "(titanic_df[['Name', 'Age', 'age_group']])"
      ],
      "metadata": {
        "id": "3cxsYtGJmxA9"
      },
      "execution_count": null,
      "outputs": []
    },
    {
      "cell_type": "code",
      "source": [
        "#Qn2\n",
        "total_passenger = len(titanic_df)\n",
        "print(f\"The total number of passenger on the titanic is: {total_passenger}\")"
      ],
      "metadata": {
        "id": "ZJvLaOA3m0L3"
      },
      "execution_count": null,
      "outputs": []
    },
    {
      "cell_type": "code",
      "source": [
        "#QN3\n",
        "age_group_count = titanic_df['age_group'].value_counts()\n",
        "print(age_group_count)"
      ],
      "metadata": {
        "id": "ZozQNFwqm2p4"
      },
      "execution_count": null,
      "outputs": []
    },
    {
      "cell_type": "code",
      "source": [
        "#Qn4\n",
        "age_group_proportion = age_group_count/total_passenger\n",
        "print(f\"Proportion of each age groups is:\\n {age_group_proportion}\")"
      ],
      "metadata": {
        "id": "MS_2Biyrm4nY"
      },
      "execution_count": null,
      "outputs": []
    },
    {
      "cell_type": "code",
      "source": [
        "#Qn5\n",
        "age_group_percentage = age_group_proportion*100\n",
        "print(f\"Poprtions in percentage:\\n {age_group_percentage}\")\n"
      ],
      "metadata": {
        "id": "NfeFWuK_m6mq"
      },
      "execution_count": null,
      "outputs": []
    },
    {
      "cell_type": "code",
      "source": [
        "from google.colab import drive\n",
        "drive.mount('/content/drive')"
      ],
      "metadata": {
        "id": "yhiQ4_O-2iro"
      },
      "execution_count": null,
      "outputs": []
    }
  ]
}